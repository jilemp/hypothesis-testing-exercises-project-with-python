{
 "cells": [
  {
   "cell_type": "markdown",
   "id": "d9d036c6",
   "metadata": {},
   "source": [
    "# Hypothesis testing problems"
   ]
  },
  {
   "cell_type": "markdown",
   "id": "d157c4db",
   "metadata": {},
   "source": [
    "## Exercise 1\n",
    "\n",
    "You are a nutritionist researching two different types of diets to see if there is a significant difference in weight loss after one month. You choose two random groups of people; one group follows the first diet, and the other follows the second. At the end of the month, you record the weight loss (in kg) for each person:\n",
    "\n",
    "| Diet 1 | Diet 2 |\n",
    "|:-------|:-------|\n",
    "| 2.0 | 3.0 |\n",
    "| 2.5 | 3.2 |\n",
    "| 3.0 | 3.1 |\n",
    "| 2.8 | 2.9 |\n",
    "| 2.3 | 2.8 |\n",
    "| 2.7 | 3.0 |\n",
    "| 2.5 | 3.2 |\n",
    "\n",
    "With these data, it seeks to answer the following question: Is there a significant difference in average weight loss between people who followed the first diet and those who followed the second diet?\n",
    "\n",
    "To draw conclusions, follow the points below:\n",
    "\n",
    "- State the hypothesis: null and alternative hypothesis.\n",
    "- Perform the test to test the hypothesis. You can use a Student's t-test.\n",
    "- Analyze the conclusions."
   ]
  },
  {
   "cell_type": "code",
   "execution_count": 31,
   "id": "8e0f3cf0",
   "metadata": {},
   "outputs": [
    {
     "data": {
      "text/plain": [
       "(7, [2.0, 2.5, 3.0, 2.8, 2.3, 2.7, 2.5], [3.0, 3.2, 3.1, 2.9, 2.8, 3.0, 3.2])"
      ]
     },
     "execution_count": 31,
     "metadata": {},
     "output_type": "execute_result"
    }
   ],
   "source": [
    "# TODO\n",
    "\n",
    "# Ho: There are no differences in weight loss between the two diets\n",
    "# Ha: There are differences in weight loss between the two diets\n",
    "\n",
    "# define groups as lists, n value, and alpha\n",
    "diet_1 = [2.0, 2.5, 3.0, 2.8, 2.3, 2.7, 2.5]\n",
    "diet_2 = [3.0, 3.2, 3.1, 2.9, 2.8, 3.0, 3.2]\n",
    "n = len(diet_1)\n",
    "alpha = 0.05\n",
    "\n",
    "n, diet_1, diet_2"
   ]
  },
  {
   "cell_type": "code",
   "execution_count": 32,
   "id": "a541e22e",
   "metadata": {},
   "outputs": [
    {
     "data": {
      "text/plain": [
       "(np.float64(2.542857142857143),\n",
       " np.float64(0.3309438162646487),\n",
       " np.float64(3.0285714285714285),\n",
       " np.float64(0.14960264830861927))"
      ]
     },
     "execution_count": 32,
     "metadata": {},
     "output_type": "execute_result"
    }
   ],
   "source": [
    "import numpy as np\n",
    "\n",
    "#calculate means, standard deviations (1 ddof since both are samples)\n",
    "diet_1_mean = np.mean(diet_1)\n",
    "diet_2_mean = np.mean(diet_2)\n",
    "\n",
    "diet_1_sd = np.std(diet_1, ddof=1)\n",
    "diet_2_sd = np.std(diet_2, ddof=1)\n",
    "\n",
    "diet_diff = []\n",
    "\n",
    "diet_1_mean, diet_1_sd, diet_2_mean, diet_2_sd"
   ]
  },
  {
   "cell_type": "code",
   "execution_count": 33,
   "id": "1581312f",
   "metadata": {},
   "outputs": [
    {
     "data": {
      "text/plain": [
       "np.float64(-3.5383407969933938)"
      ]
     },
     "execution_count": 33,
     "metadata": {},
     "output_type": "execute_result"
    }
   ],
   "source": [
    "# manual calculation of T for two independent samples\n",
    "T = (diet_1_mean - diet_2_mean) / np.sqrt((diet_1_sd**2/n) + (diet_2_sd**2/n))\n",
    "T"
   ]
  },
  {
   "cell_type": "code",
   "execution_count": 34,
   "id": "00efb855",
   "metadata": {},
   "outputs": [
    {
     "data": {
      "text/plain": [
       "np.float64(0.00408327019171395)"
      ]
     },
     "execution_count": 34,
     "metadata": {},
     "output_type": "execute_result"
    }
   ],
   "source": [
    "from scipy import stats\n",
    "\n",
    "#calculate ddof of the test (same length for both groups)\n",
    "ddof = 2*n - 2\n",
    "\n",
    "#calculate p value from T\n",
    "p = 2 * (1 - stats.t.cdf(abs(T), 12))\n",
    "p"
   ]
  },
  {
   "cell_type": "code",
   "execution_count": 35,
   "id": "2d1141df",
   "metadata": {},
   "outputs": [
    {
     "data": {
      "text/plain": [
       "TtestResult(statistic=np.float64(-3.5383407969933938), pvalue=np.float64(0.004083270191713912), df=np.float64(12.0))"
      ]
     },
     "execution_count": 35,
     "metadata": {},
     "output_type": "execute_result"
    }
   ],
   "source": [
    "from scipy import stats\n",
    "\n",
    "# check previous calculations with scipy functions\n",
    "stats.ttest_ind(diet_1, diet_2, alternative='two-sided')"
   ]
  },
  {
   "cell_type": "code",
   "execution_count": 47,
   "id": "4b25ec18",
   "metadata": {},
   "outputs": [
    {
     "name": "stdout",
     "output_type": "stream",
     "text": [
      "Defaulting to user installation because normal site-packages is not writeable\n",
      "Requirement already satisfied: tableone in /home/vscode/.local/lib/python3.11/site-packages (0.9.1)\n",
      "Requirement already satisfied: jinja2>=3.1.4 in /home/vscode/.local/lib/python3.11/site-packages (from tableone) (3.1.5)\n",
      "Requirement already satisfied: numpy>=1.19.1 in /home/vscode/.local/lib/python3.11/site-packages (from tableone) (2.2.1)\n",
      "Requirement already satisfied: openpyxl>=3.1.2 in /home/vscode/.local/lib/python3.11/site-packages (from tableone) (3.1.5)\n",
      "Requirement already satisfied: pandas>=2.0.3 in /home/vscode/.local/lib/python3.11/site-packages (from tableone) (2.2.3)\n",
      "Requirement already satisfied: scipy>=1.10.1 in /home/vscode/.local/lib/python3.11/site-packages (from tableone) (1.14.1)\n",
      "Requirement already satisfied: statsmodels>=0.14.1 in /home/vscode/.local/lib/python3.11/site-packages (from tableone) (0.14.4)\n",
      "Requirement already satisfied: tabulate>=0.9.0 in /home/vscode/.local/lib/python3.11/site-packages (from tableone) (0.9.0)\n",
      "Requirement already satisfied: MarkupSafe>=2.0 in /home/vscode/.local/lib/python3.11/site-packages (from jinja2>=3.1.4->tableone) (3.0.2)\n",
      "Requirement already satisfied: et-xmlfile in /home/vscode/.local/lib/python3.11/site-packages (from openpyxl>=3.1.2->tableone) (2.0.0)\n",
      "Requirement already satisfied: python-dateutil>=2.8.2 in /home/vscode/.local/lib/python3.11/site-packages (from pandas>=2.0.3->tableone) (2.9.0.post0)\n",
      "Requirement already satisfied: pytz>=2020.1 in /home/vscode/.local/lib/python3.11/site-packages (from pandas>=2.0.3->tableone) (2024.2)\n",
      "Requirement already satisfied: tzdata>=2022.7 in /home/vscode/.local/lib/python3.11/site-packages (from pandas>=2.0.3->tableone) (2024.2)\n",
      "Requirement already satisfied: patsy>=0.5.6 in /home/vscode/.local/lib/python3.11/site-packages (from statsmodels>=0.14.1->tableone) (1.0.1)\n",
      "Requirement already satisfied: packaging>=21.3 in /home/vscode/.local/lib/python3.11/site-packages (from statsmodels>=0.14.1->tableone) (24.2)\n",
      "Requirement already satisfied: six>=1.5 in /home/vscode/.local/lib/python3.11/site-packages (from python-dateutil>=2.8.2->pandas>=2.0.3->tableone) (1.17.0)\n",
      "\n",
      "\u001b[1m[\u001b[0m\u001b[34;49mnotice\u001b[0m\u001b[1;39;49m]\u001b[0m\u001b[39;49m A new release of pip is available: \u001b[0m\u001b[31;49m23.1.2\u001b[0m\u001b[39;49m -> \u001b[0m\u001b[32;49m24.3.1\u001b[0m\n",
      "\u001b[1m[\u001b[0m\u001b[34;49mnotice\u001b[0m\u001b[1;39;49m]\u001b[0m\u001b[39;49m To update, run: \u001b[0m\u001b[32;49mpip install --upgrade pip\u001b[0m\n"
     ]
    }
   ],
   "source": [
    "!pip install tableone\n",
    "from tableone import TableOne"
   ]
  },
  {
   "cell_type": "code",
   "execution_count": 48,
   "id": "3d845fda",
   "metadata": {},
   "outputs": [
    {
     "data": {
      "text/html": [
       "<div>\n",
       "<style scoped>\n",
       "    .dataframe tbody tr th:only-of-type {\n",
       "        vertical-align: middle;\n",
       "    }\n",
       "\n",
       "    .dataframe tbody tr th {\n",
       "        vertical-align: top;\n",
       "    }\n",
       "\n",
       "    .dataframe thead th {\n",
       "        text-align: right;\n",
       "    }\n",
       "</style>\n",
       "<table border=\"1\" class=\"dataframe\">\n",
       "  <thead>\n",
       "    <tr style=\"text-align: right;\">\n",
       "      <th></th>\n",
       "      <th>values</th>\n",
       "      <th>diet_type</th>\n",
       "    </tr>\n",
       "  </thead>\n",
       "  <tbody>\n",
       "    <tr>\n",
       "      <th>0</th>\n",
       "      <td>2.0</td>\n",
       "      <td>A</td>\n",
       "    </tr>\n",
       "    <tr>\n",
       "      <th>1</th>\n",
       "      <td>2.5</td>\n",
       "      <td>A</td>\n",
       "    </tr>\n",
       "    <tr>\n",
       "      <th>2</th>\n",
       "      <td>3.0</td>\n",
       "      <td>A</td>\n",
       "    </tr>\n",
       "    <tr>\n",
       "      <th>3</th>\n",
       "      <td>2.8</td>\n",
       "      <td>A</td>\n",
       "    </tr>\n",
       "    <tr>\n",
       "      <th>4</th>\n",
       "      <td>2.3</td>\n",
       "      <td>A</td>\n",
       "    </tr>\n",
       "    <tr>\n",
       "      <th>5</th>\n",
       "      <td>2.7</td>\n",
       "      <td>A</td>\n",
       "    </tr>\n",
       "    <tr>\n",
       "      <th>6</th>\n",
       "      <td>2.5</td>\n",
       "      <td>A</td>\n",
       "    </tr>\n",
       "    <tr>\n",
       "      <th>7</th>\n",
       "      <td>3.0</td>\n",
       "      <td>B</td>\n",
       "    </tr>\n",
       "    <tr>\n",
       "      <th>8</th>\n",
       "      <td>3.2</td>\n",
       "      <td>B</td>\n",
       "    </tr>\n",
       "    <tr>\n",
       "      <th>9</th>\n",
       "      <td>3.1</td>\n",
       "      <td>B</td>\n",
       "    </tr>\n",
       "    <tr>\n",
       "      <th>10</th>\n",
       "      <td>2.9</td>\n",
       "      <td>B</td>\n",
       "    </tr>\n",
       "    <tr>\n",
       "      <th>11</th>\n",
       "      <td>2.8</td>\n",
       "      <td>B</td>\n",
       "    </tr>\n",
       "    <tr>\n",
       "      <th>12</th>\n",
       "      <td>3.0</td>\n",
       "      <td>B</td>\n",
       "    </tr>\n",
       "    <tr>\n",
       "      <th>13</th>\n",
       "      <td>3.2</td>\n",
       "      <td>B</td>\n",
       "    </tr>\n",
       "  </tbody>\n",
       "</table>\n",
       "</div>"
      ],
      "text/plain": [
       "    values diet_type\n",
       "0      2.0         A\n",
       "1      2.5         A\n",
       "2      3.0         A\n",
       "3      2.8         A\n",
       "4      2.3         A\n",
       "5      2.7         A\n",
       "6      2.5         A\n",
       "7      3.0         B\n",
       "8      3.2         B\n",
       "9      3.1         B\n",
       "10     2.9         B\n",
       "11     2.8         B\n",
       "12     3.0         B\n",
       "13     3.2         B"
      ]
     },
     "execution_count": 48,
     "metadata": {},
     "output_type": "execute_result"
    }
   ],
   "source": [
    "#create df to check solution with table one\n",
    "import pandas as pd\n",
    "\n",
    "df1 = pd.DataFrame({'values':diet_1})\n",
    "df1['diet_type'] = 'A'\n",
    "\n",
    "df2 = pd.DataFrame({'values':diet_2})\n",
    "df2['diet_type'] = 'B'\n",
    "\n",
    "df = pd.concat([df1, df2]).reset_index()\n",
    "df = df.drop(columns='index')\n",
    "df"
   ]
  },
  {
   "cell_type": "code",
   "execution_count": 49,
   "id": "71dfb671",
   "metadata": {},
   "outputs": [
    {
     "data": {
      "text/html": [
       "<div>\n",
       "<style scoped>\n",
       "    .dataframe tbody tr th:only-of-type {\n",
       "        vertical-align: middle;\n",
       "    }\n",
       "\n",
       "    .dataframe tbody tr th {\n",
       "        vertical-align: top;\n",
       "    }\n",
       "\n",
       "    .dataframe thead tr th {\n",
       "        text-align: left;\n",
       "    }\n",
       "</style>\n",
       "<table border=\"1\" class=\"dataframe\">\n",
       "  <thead>\n",
       "    <tr>\n",
       "      <th></th>\n",
       "      <th></th>\n",
       "      <th colspan=\"6\" halign=\"left\">Grouped by diet_type</th>\n",
       "    </tr>\n",
       "    <tr>\n",
       "      <th></th>\n",
       "      <th></th>\n",
       "      <th>Missing</th>\n",
       "      <th>Overall</th>\n",
       "      <th>A</th>\n",
       "      <th>B</th>\n",
       "      <th>P-Value</th>\n",
       "      <th>Test</th>\n",
       "    </tr>\n",
       "  </thead>\n",
       "  <tbody>\n",
       "    <tr>\n",
       "      <th>n</th>\n",
       "      <th></th>\n",
       "      <td></td>\n",
       "      <td>14</td>\n",
       "      <td>7</td>\n",
       "      <td>7</td>\n",
       "      <td></td>\n",
       "      <td></td>\n",
       "    </tr>\n",
       "    <tr>\n",
       "      <th>values, mean (SD)</th>\n",
       "      <th></th>\n",
       "      <td>0</td>\n",
       "      <td>2.8 (0.4)</td>\n",
       "      <td>2.5 (0.3)</td>\n",
       "      <td>3.0 (0.1)</td>\n",
       "      <td>0.007</td>\n",
       "      <td>Two Sample T-test</td>\n",
       "    </tr>\n",
       "  </tbody>\n",
       "</table>\n",
       "</div><br />"
      ],
      "text/plain": [
       "                   Grouped by diet_type                                                            \n",
       "                                Missing    Overall          A          B P-Value               Test\n",
       "n                                               14          7          7                           \n",
       "values, mean (SD)                     0  2.8 (0.4)  2.5 (0.3)  3.0 (0.1)   0.007  Two Sample T-test"
      ]
     },
     "execution_count": 49,
     "metadata": {},
     "output_type": "execute_result"
    }
   ],
   "source": [
    "# apply table one to the new dataframe\n",
    "my_table = TableOne(df, groupby='diet_type', pval=True, htest_name=True)\n",
    "my_table"
   ]
  },
  {
   "cell_type": "code",
   "execution_count": null,
   "id": "f956b3b1",
   "metadata": {},
   "outputs": [],
   "source": [
    "#conclude\n",
    "if p > alpha:\n",
    "    print(\"'Ho' can't be rejected: There is not enough evidence to affirm that the two diets are different\")\n",
    "elif p < alpha:\n",
    "    print(\"'Ho' is rejected and 'Ha' is accepted: there are differences in the diets\")"
   ]
  },
  {
   "cell_type": "markdown",
   "id": "f432e18e",
   "metadata": {},
   "source": [
    "## ANOVA\n",
    "\n",
    "**ANOVA** (*Analysis of Variance*) is a statistical technique used to compare the measures of two or more groups. The idea behind ANOVA is to decompose the total variability in the data into two components: between-group variability and within-group variability:\n",
    "\n",
    "- **Between-group variability**: This variability refers to the differences between the group means. If this variability is considerably larger than the within-group variability, it could be an indication that at least one of the group means is different.\n",
    "- **Within-group variability**: This variability refers to the dispersion of the data within each group. If all groups have similar variability, then any noticeable difference in group means could be considered significant.\n",
    "\n",
    "Hypotheses in ANOVA typically include:\n",
    "\n",
    "- **Null hypothesis** ($H₀$): The means of all groups are equal.\n",
    "- **Alternative hypothesis** ($H₁$): At least one of the group means is different.\n",
    "\n",
    "If the ANOVA test result is significant (e.g., a p-value less than a threshold such as 0.05), this suggests that at least one group mean is different."
   ]
  },
  {
   "cell_type": "markdown",
   "id": "fc5f3721",
   "metadata": {},
   "source": [
    "## Exercise 2\n",
    "\n",
    "A farmer decides to test three different types of fertilizers to determine if one is superior in terms of corn production. The farmer plants corn on 15 identical plots and uses all three fertilizers (5 plots for each type). At the end of the season, he measures the corn yield (in kg) of each plot, with the following result:\n",
    "\n",
    "| Fertilizer 1 | Fertilizer 2 | Fertilizer 3 |\n",
    "|:-------------|:-------------|:-------------|\n",
    "| 20 | 22 | 24 |\n",
    "| 21 | 21 | 23 |\n",
    "| 20 | 23 | 22 |\n",
    "| 19 | 22 | 23 |\n",
    "| 20 | 21 | 24 |\n",
    "\n",
    "With this data, he seeks to answer the following question: Is there a significant difference in average corn yield between the three types of fertilizers?\n",
    "\n",
    "To help you, follow the points below:\n",
    "\n",
    "- State the hypothesis: null and alternative hypothesis.\n",
    "- Perform the ANOVA test.\n",
    "- Analyze the conclusions.\n",
    "- If one fertilizer is better than another, how can we know it?"
   ]
  },
  {
   "cell_type": "code",
   "execution_count": 50,
   "id": "eecad0ca",
   "metadata": {},
   "outputs": [
    {
     "data": {
      "text/plain": [
       "15"
      ]
     },
     "execution_count": 50,
     "metadata": {},
     "output_type": "execute_result"
    }
   ],
   "source": [
    "# TODO\n",
    "# Ho: There are no significant differences in the mean corn yields between the fertilizers.\n",
    "# Ha: There is at least one significant difference in the mean corn yields between the fertilizers.\n",
    "\n",
    "# define groups as lists, n value, and alpha\n",
    "fert_1 = [20, 21, 20, 19, 20]\n",
    "fert_2 = [22, 21, 23, 22, 21]\n",
    "fert_3 = [24, 23, 22, 23, 24]\n",
    "\n",
    "n = len(fert_1)\n",
    "N = n*3\n",
    "k = 3\n",
    "alpha = 0.05\n",
    "\n",
    "N"
   ]
  },
  {
   "cell_type": "code",
   "execution_count": 51,
   "id": "dd6a940e",
   "metadata": {},
   "outputs": [
    {
     "data": {
      "text/plain": [
       "(np.float64(20.0),\n",
       " np.float64(0.7071067811865476),\n",
       " np.float64(0.31622776601683794),\n",
       " np.float64(21.8),\n",
       " np.float64(0.8366600265340756),\n",
       " np.float64(0.3741657386773941),\n",
       " np.float64(23.2),\n",
       " np.float64(0.8366600265340756),\n",
       " np.float64(0.3741657386773941))"
      ]
     },
     "execution_count": 51,
     "metadata": {},
     "output_type": "execute_result"
    }
   ],
   "source": [
    "import numpy as np\n",
    "from scipy import stats\n",
    "\n",
    "#calculate means, standard deviations (1 ddof since all groups are samples), and standard errors\n",
    "fert_1_mean = np.mean(fert_1)\n",
    "fert_2_mean = np.mean(fert_2)\n",
    "fert_3_mean = np.mean(fert_3)\n",
    "\n",
    "fert_1_sd = np.std(fert_1, ddof=1)\n",
    "fert_2_sd = np.std(fert_2, ddof=1)\n",
    "fert_3_sd = np.std(fert_3, ddof=1)\n",
    "\n",
    "fert_1_se = stats.sem(fert_1, ddof=1)\n",
    "fert_2_se = stats.sem(fert_2, ddof=1)\n",
    "fert_3_se = stats.sem(fert_3, ddof=1)\n",
    "\n",
    "\n",
    "fert_1_mean, fert_1_sd, fert_1_se, fert_2_mean, fert_2_sd, fert_2_se, fert_3_mean, fert_3_sd, fert_3_se"
   ]
  },
  {
   "cell_type": "code",
   "execution_count": 52,
   "id": "ec05b254",
   "metadata": {},
   "outputs": [
    {
     "data": {
      "text/plain": [
       "np.float64(20.3157894736842)"
      ]
     },
     "execution_count": 52,
     "metadata": {},
     "output_type": "execute_result"
    }
   ],
   "source": [
    "#calculate ddofs\n",
    "bg_ddof = k-1\n",
    "wg_ddof = N-k\n",
    "total_ddof = N-1\n",
    "\n",
    "#calculate sum of squares between groups, within groups and total\n",
    "global_mean = (fert_1_mean+fert_2_mean+fert_3_mean)/k\n",
    "\n",
    "ss_bg = n*((fert_1_mean - global_mean)**2 + (fert_2_mean - global_mean)**2 + (fert_3_mean - global_mean)**2)\n",
    "ss_bg\n",
    "\n",
    "ss_wg = 0\n",
    "\n",
    "for i in range(len(fert_1)):\n",
    "    a = ((fert_1[i] - fert_1_mean)**2)  + ((fert_2[i] - fert_2_mean)**2) + ((fert_3[i] - fert_3_mean)**2)\n",
    "    ss_wg = ss_wg + a\n",
    "\n",
    "ss_total = ss_bg + ss_wg\n",
    "\n",
    "#calculate mean squares between and within groups\n",
    "ms_bg = ss_bg/(k-1)\n",
    "ms_wg = ss_wg/(N-k)\n",
    "\n",
    "#calculate value of F-Statistic\n",
    "F = ms_bg/ms_wg\n",
    "F"
   ]
  },
  {
   "cell_type": "code",
   "execution_count": 67,
   "id": "cc16c22a",
   "metadata": {},
   "outputs": [
    {
     "data": {
      "text/plain": [
       "(np.float64(20.315789473684188), np.float64(0.00014047824793190475))"
      ]
     },
     "execution_count": 67,
     "metadata": {},
     "output_type": "execute_result"
    }
   ],
   "source": [
    "# compare results with f_oneway formula from scipy stats\n",
    "F, p = stats.f_oneway(fert_1, fert_2, fert_3)\n",
    "F, p"
   ]
  },
  {
   "cell_type": "code",
   "execution_count": 62,
   "id": "d4b7daa2",
   "metadata": {},
   "outputs": [
    {
     "data": {
      "text/html": [
       "<div>\n",
       "<style scoped>\n",
       "    .dataframe tbody tr th:only-of-type {\n",
       "        vertical-align: middle;\n",
       "    }\n",
       "\n",
       "    .dataframe tbody tr th {\n",
       "        vertical-align: top;\n",
       "    }\n",
       "\n",
       "    .dataframe thead th {\n",
       "        text-align: right;\n",
       "    }\n",
       "</style>\n",
       "<table border=\"1\" class=\"dataframe\">\n",
       "  <thead>\n",
       "    <tr style=\"text-align: right;\">\n",
       "      <th></th>\n",
       "      <th>values</th>\n",
       "      <th>fertilizer</th>\n",
       "    </tr>\n",
       "  </thead>\n",
       "  <tbody>\n",
       "    <tr>\n",
       "      <th>0</th>\n",
       "      <td>20</td>\n",
       "      <td>F1</td>\n",
       "    </tr>\n",
       "    <tr>\n",
       "      <th>1</th>\n",
       "      <td>21</td>\n",
       "      <td>F1</td>\n",
       "    </tr>\n",
       "    <tr>\n",
       "      <th>2</th>\n",
       "      <td>20</td>\n",
       "      <td>F1</td>\n",
       "    </tr>\n",
       "    <tr>\n",
       "      <th>3</th>\n",
       "      <td>19</td>\n",
       "      <td>F1</td>\n",
       "    </tr>\n",
       "    <tr>\n",
       "      <th>4</th>\n",
       "      <td>20</td>\n",
       "      <td>F1</td>\n",
       "    </tr>\n",
       "    <tr>\n",
       "      <th>5</th>\n",
       "      <td>22</td>\n",
       "      <td>F2</td>\n",
       "    </tr>\n",
       "    <tr>\n",
       "      <th>6</th>\n",
       "      <td>21</td>\n",
       "      <td>F2</td>\n",
       "    </tr>\n",
       "    <tr>\n",
       "      <th>7</th>\n",
       "      <td>23</td>\n",
       "      <td>F2</td>\n",
       "    </tr>\n",
       "    <tr>\n",
       "      <th>8</th>\n",
       "      <td>22</td>\n",
       "      <td>F2</td>\n",
       "    </tr>\n",
       "    <tr>\n",
       "      <th>9</th>\n",
       "      <td>21</td>\n",
       "      <td>F2</td>\n",
       "    </tr>\n",
       "    <tr>\n",
       "      <th>10</th>\n",
       "      <td>24</td>\n",
       "      <td>F3</td>\n",
       "    </tr>\n",
       "    <tr>\n",
       "      <th>11</th>\n",
       "      <td>23</td>\n",
       "      <td>F3</td>\n",
       "    </tr>\n",
       "    <tr>\n",
       "      <th>12</th>\n",
       "      <td>22</td>\n",
       "      <td>F3</td>\n",
       "    </tr>\n",
       "    <tr>\n",
       "      <th>13</th>\n",
       "      <td>23</td>\n",
       "      <td>F3</td>\n",
       "    </tr>\n",
       "    <tr>\n",
       "      <th>14</th>\n",
       "      <td>24</td>\n",
       "      <td>F3</td>\n",
       "    </tr>\n",
       "  </tbody>\n",
       "</table>\n",
       "</div>"
      ],
      "text/plain": [
       "    values fertilizer\n",
       "0       20         F1\n",
       "1       21         F1\n",
       "2       20         F1\n",
       "3       19         F1\n",
       "4       20         F1\n",
       "5       22         F2\n",
       "6       21         F2\n",
       "7       23         F2\n",
       "8       22         F2\n",
       "9       21         F2\n",
       "10      24         F3\n",
       "11      23         F3\n",
       "12      22         F3\n",
       "13      23         F3\n",
       "14      24         F3"
      ]
     },
     "execution_count": 62,
     "metadata": {},
     "output_type": "execute_result"
    }
   ],
   "source": [
    "#prepare df for tableone check\n",
    "df1 = pd.DataFrame({\"values\":fert_1})\n",
    "df1['fertilizer'] = 'F1'\n",
    "df2 = pd.DataFrame({\"values\":fert_2})\n",
    "df2['fertilizer'] = 'F2'\n",
    "df3 = pd.DataFrame({\"values\":fert_3})\n",
    "df3['fertilizer'] = 'F3'\n",
    "\n",
    "df = pd.concat([df1, df2, df3])\n",
    "df = df.reset_index()\n",
    "df_fertilizers = df.drop(columns='index')\n",
    "df_fertilizers"
   ]
  },
  {
   "cell_type": "code",
   "execution_count": 65,
   "id": "a6589bea",
   "metadata": {},
   "outputs": [
    {
     "data": {
      "text/html": [
       "<div>\n",
       "<style scoped>\n",
       "    .dataframe tbody tr th:only-of-type {\n",
       "        vertical-align: middle;\n",
       "    }\n",
       "\n",
       "    .dataframe tbody tr th {\n",
       "        vertical-align: top;\n",
       "    }\n",
       "\n",
       "    .dataframe thead tr th {\n",
       "        text-align: left;\n",
       "    }\n",
       "</style>\n",
       "<table border=\"1\" class=\"dataframe\">\n",
       "  <thead>\n",
       "    <tr>\n",
       "      <th></th>\n",
       "      <th></th>\n",
       "      <th colspan=\"7\" halign=\"left\">Grouped by fertilizer</th>\n",
       "    </tr>\n",
       "    <tr>\n",
       "      <th></th>\n",
       "      <th></th>\n",
       "      <th>Missing</th>\n",
       "      <th>Overall</th>\n",
       "      <th>F1</th>\n",
       "      <th>F2</th>\n",
       "      <th>F3</th>\n",
       "      <th>P-Value</th>\n",
       "      <th>Test</th>\n",
       "    </tr>\n",
       "  </thead>\n",
       "  <tbody>\n",
       "    <tr>\n",
       "      <th>n</th>\n",
       "      <th></th>\n",
       "      <td></td>\n",
       "      <td>15</td>\n",
       "      <td>5</td>\n",
       "      <td>5</td>\n",
       "      <td>5</td>\n",
       "      <td></td>\n",
       "      <td></td>\n",
       "    </tr>\n",
       "    <tr>\n",
       "      <th>values, mean (SD)</th>\n",
       "      <th></th>\n",
       "      <td>0</td>\n",
       "      <td>21.7 (1.5)</td>\n",
       "      <td>20.0 (0.7)</td>\n",
       "      <td>21.8 (0.8)</td>\n",
       "      <td>23.2 (0.8)</td>\n",
       "      <td>&lt;0.001</td>\n",
       "      <td>One-way ANOVA</td>\n",
       "    </tr>\n",
       "  </tbody>\n",
       "</table>\n",
       "</div><br />"
      ],
      "text/plain": [
       "                   Grouped by fertilizer                                                                       \n",
       "                                 Missing     Overall          F1          F2          F3 P-Value           Test\n",
       "n                                                 15           5           5           5                       \n",
       "values, mean (SD)                      0  21.7 (1.5)  20.0 (0.7)  21.8 (0.8)  23.2 (0.8)  <0.001  One-way ANOVA"
      ]
     },
     "execution_count": 65,
     "metadata": {},
     "output_type": "execute_result"
    }
   ],
   "source": [
    "my_table_2 = TableOne(df_fertilizers, groupby='fertilizer', pval=True, htest_name=True)\n",
    "my_table_2"
   ]
  },
  {
   "cell_type": "code",
   "execution_count": 69,
   "id": "79119bc8",
   "metadata": {},
   "outputs": [
    {
     "name": "stdout",
     "output_type": "stream",
     "text": [
      "'Ho' is rejected and 'Ha' is accepted: There are statistically significant differences to affirm that the three fertilizers cause different crop yield means\n"
     ]
    }
   ],
   "source": [
    "#conclude\n",
    "if p > alpha:\n",
    "    print(\"'Ho' can't be rejected: There is not enough evidence to affirm that the three fertilizers cause different crop yield means\")\n",
    "elif p < alpha:\n",
    "    print(\"'Ho' is rejected and 'Ha' is accepted: There are statistically significant differences to affirm that the three fertilizers cause different crop yield means\")"
   ]
  }
 ],
 "metadata": {
  "kernelspec": {
   "display_name": "Python 3",
   "language": "python",
   "name": "python3"
  },
  "language_info": {
   "codemirror_mode": {
    "name": "ipython",
    "version": 3
   },
   "file_extension": ".py",
   "mimetype": "text/x-python",
   "name": "python",
   "nbconvert_exporter": "python",
   "pygments_lexer": "ipython3",
   "version": "3.11.4"
  }
 },
 "nbformat": 4,
 "nbformat_minor": 5
}
